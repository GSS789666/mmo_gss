{
 "cells": [
  {
   "cell_type": "code",
   "execution_count": 1,
   "source": [
    "import numpy as np \n",
    "import matplotlib.pyplot as plt\n",
    "import gym\n",
    "from tqdm import tqdm\n",
    "\n",
    "# ************************************ БАЗОВЫЙ АГЕНТ *****************************************\n",
    "all_reward=[]\n",
    "parameter=[]\n",
    "class BasicAgent:\n",
    "    '''\n",
    "    Базовый агент, от которого наследуются стратегии обучения\n",
    "    '''\n",
    "\n",
    "    # Наименование алгоритма\n",
    "    ALGO_NAME = '---'\n",
    "\n",
    "    def __init__(self, env, eps=0.1):\n",
    "        # Среда\n",
    "        self.env = env\n",
    "        # Размерности Q-матрицы\n",
    "        self.nA = env.action_space.n\n",
    "        self.nS = env.observation_space.n\n",
    "        #и сама матрица\n",
    "        self.Q = np.zeros((self.nS, self.nA))\n",
    "        # Значения коэффициентов\n",
    "        # Порог выбора случайного действия\n",
    "        self.eps=eps\n",
    "        # Награды по эпизодам\n",
    "        self.episodes_reward = []\n",
    "\n",
    "\n",
    "    def print_q(self):\n",
    "        # print('Вывод Q-матрицы для алгоритма ', self.ALGO_NAME)\n",
    "        # print(self.Q)\n",
    "        all_reward.append(np.sum(self.Q))\n",
    "        print('Суммарная награда:',np.sum(self.Q))\n",
    "\n",
    "\n",
    "    def get_state(self, state):\n",
    "        '''\n",
    "        Возвращает правильное начальное состояние\n",
    "        '''\n",
    "        if type(state) is tuple:\n",
    "            # Если состояние вернулось с виде кортежа, то вернуть только номер состояния\n",
    "            return state[0]\n",
    "        else:\n",
    "            return state \n",
    "\n",
    "\n",
    "    def greedy(self, state):\n",
    "        '''\n",
    "        <<Жадное>> текущее действие\n",
    "        Возвращает действие, соответствующее максимальному Q-значению\n",
    "        для состояния state\n",
    "        '''\n",
    "        return np.argmax(self.Q[state])\n",
    "\n",
    "\n",
    "    def make_action(self, state):\n",
    "        '''\n",
    "        Выбор действия агентом\n",
    "        '''\n",
    "        if np.random.uniform(0,1) < self.eps:\n",
    "            \n",
    "            # Если вероятность меньше eps\n",
    "            # то выбирается случайное действие\n",
    "            return self.env.action_space.sample()\n",
    "        else:\n",
    "            # иначе действие, соответствующее максимальному Q-значению\n",
    "            return self.greedy(state)\n",
    "\n",
    "\n",
    "    def draw_episodes_reward(self):\n",
    "        # Построение графика наград по эпизодам\n",
    "        fig, ax = plt.subplots(figsize = (15,10))\n",
    "        y = self.episodes_reward\n",
    "        x = list(range(1, len(y)+1))\n",
    "        plt.plot(x, y, '-', linewidth=1, color='green')\n",
    "        plt.title('Награды по эпизодам')\n",
    "        plt.xlabel('Номер эпизода')\n",
    "        plt.ylabel('Награда')\n",
    "        plt.show()\n",
    "\n",
    "\n",
    "    def learn():\n",
    "        '''\n",
    "        Реализация алгоритма обучения\n",
    "        '''\n",
    "        pass\n",
    "\n",
    "# ************************************ Q-обучение *****************************************\n",
    "\n",
    "class QLearning_Agent(BasicAgent):\n",
    "    '''\n",
    "    Реализация алгоритма Q-Learning\n",
    "    '''\n",
    "    # Наименование алгоритма\n",
    "    ALGO_NAME = 'Q-обучение'\n",
    "\n",
    "    def __init__(self, env, eps=0.4, lr=0.1, gamma=0.98, num_episodes=1000):\n",
    "        # Вызов конструктора верхнего уровня\n",
    "        super().__init__(env, eps)\n",
    "        # Learning rate\n",
    "        self.lr=lr\n",
    "        # Коэффициент дисконтирования\n",
    "        self.gamma = gamma\n",
    "        # Количество эпизодов\n",
    "        self.num_episodes=num_episodes\n",
    "        # Постепенное уменьшение eps\n",
    "        self.eps_decay=0.00005\n",
    "        self.eps_threshold=0.01\n",
    "\n",
    "\n",
    "    def learn(self):\n",
    "        '''\n",
    "        Обучение на основе алгоритма Q-Learning\n",
    "        '''\n",
    "        self.episodes_reward = []\n",
    "        # Цикл по эпизодам\n",
    "        for ep in tqdm(list(range(self.num_episodes))):\n",
    "            # Начальное состояние среды\n",
    "            state = self.get_state(self.env.reset())\n",
    "            # Флаг штатного завершения эпизода\n",
    "            done = False\n",
    "            # Флаг нештатного завершения эпизода\n",
    "            truncated = False\n",
    "            # Суммарная награда по эпизоду\n",
    "            tot_rew = 0\n",
    "\n",
    "            # По мере заполнения Q-матрицы уменьшаем вероятность случайного выбора действия\n",
    "            if self.eps > self.eps_threshold:\n",
    "                self.eps -= self.eps_decay\n",
    "\n",
    "            # Проигрывание одного эпизода до финального состояния\n",
    "            while not (done or truncated):\n",
    "\n",
    "                # Выбор действия\n",
    "                # В SARSA следующее действие выбиралось после шага в среде \n",
    "                action = self.make_action(state) \n",
    "                \n",
    "                # Выполняем шаг в среде\n",
    "                next_state, rew, done, truncated, _ = self.env.step(action)\n",
    "\n",
    "                # Правило обновления Q для SARSA (для сравнения)\n",
    "                # self.Q[state][action] = self.Q[state][action] + self.lr * \\\n",
    "                #     (rew + self.gamma * self.Q[next_state][next_action] - self.Q[state][action])\n",
    "\n",
    "                # Правило обновления для Q-обучения\n",
    "                self.Q[state][action] = self.Q[state][action] + self.lr * \\\n",
    "                    (rew + self.gamma * np.max(self.Q[next_state]) - self.Q[state][action])\n",
    "\n",
    "                # Следующее состояние считаем текущим\n",
    "                state = next_state\n",
    "                # Суммарная награда за эпизод\n",
    "                tot_rew += rew\n",
    "                if (done or truncated):\n",
    "                    self.episodes_reward.append(tot_rew)\n",
    "\n",
    "def play_agent(agent):\n",
    "    '''\n",
    "    Проигрывание сессии для обученного агента\n",
    "    '''\n",
    "    env2 = gym.make('CliffWalking-v0', render_mode='human')\n",
    "    state = env2.reset()[0]\n",
    "    done = False\n",
    "    while not done:\n",
    "        action = agent.greedy(state)\n",
    "        next_state, reward, terminated, truncated, _ = env2.step(action)\n",
    "        env2.render()\n",
    "        state = next_state\n",
    "        if terminated or truncated:\n",
    "            done = True"
   ],
   "outputs": [],
   "metadata": {}
  },
  {
   "cell_type": "code",
   "execution_count": 2,
   "source": [
    "def run_q_learning():\n",
    "    env = gym.make('CliffWalking-v0')\n",
    "    for i in np.arange(0.01,0.2,0.02):\n",
    "        for j in np.arange(0.95,1,0.1):\n",
    "            for n in np.arange(100,2001,200):\n",
    "                agent = QLearning_Agent(env,lr=i, gamma=j, num_episodes=n)\n",
    "                agent.learn()\n",
    "                agent.print_q()\n",
    "                #agent.draw_episodes_reward()\n",
    "                parameter.append([i,j,n])\n",
    "    \n",
    "\n",
    "def main():\n",
    "    run_q_learning()\n",
    "    print(all_reward)\n",
    "    print('Максимальная награда:',np.max(all_reward),'Значения гиперпараметров(lr, gamma, num_episodes):',parameter[np.argmax(np.max(all_reward))])    \n",
    "    #play_agent(agent)\n",
    "\n",
    "\n",
    "if __name__ == '__main__':\n",
    "    main()"
   ],
   "outputs": [
    {
     "output_type": "stream",
     "name": "stderr",
     "text": [
      "  0%|          | 0/100 [00:00<?, ?it/s]c:\\Users\\Gong Shengshuo\\AppData\\Local\\Programs\\Python\\Python310\\lib\\site-packages\\gym\\utils\\passive_env_checker.py:233: DeprecationWarning: `np.bool8` is a deprecated alias for `np.bool_`.  (Deprecated NumPy 1.24)\n",
      "  if not isinstance(terminated, (bool, np.bool8)):\n",
      "100%|██████████| 100/100 [00:01<00:00, 78.74it/s]\n"
     ]
    },
    {
     "output_type": "stream",
     "name": "stdout",
     "text": [
      "Суммарная награда: -925.480074856451\n"
     ]
    },
    {
     "output_type": "stream",
     "name": "stderr",
     "text": [
      "100%|██████████| 300/300 [00:02<00:00, 142.96it/s]\n"
     ]
    },
    {
     "output_type": "stream",
     "name": "stdout",
     "text": [
      "Суммарная награда: -1305.5388121280512\n"
     ]
    },
    {
     "output_type": "stream",
     "name": "stderr",
     "text": [
      "100%|██████████| 500/500 [00:02<00:00, 186.70it/s]\n"
     ]
    },
    {
     "output_type": "stream",
     "name": "stdout",
     "text": [
      "Суммарная награда: -1472.87992013234\n"
     ]
    },
    {
     "output_type": "stream",
     "name": "stderr",
     "text": [
      "100%|██████████| 700/700 [00:02<00:00, 235.33it/s]\n"
     ]
    },
    {
     "output_type": "stream",
     "name": "stdout",
     "text": [
      "Суммарная награда: -1609.6603274710199\n"
     ]
    },
    {
     "output_type": "stream",
     "name": "stderr",
     "text": [
      "100%|██████████| 900/900 [00:03<00:00, 288.27it/s]\n"
     ]
    },
    {
     "output_type": "stream",
     "name": "stdout",
     "text": [
      "Суммарная награда: -1688.2110491932995\n"
     ]
    },
    {
     "output_type": "stream",
     "name": "stderr",
     "text": [
      "100%|██████████| 1100/1100 [00:03<00:00, 331.13it/s]\n"
     ]
    },
    {
     "output_type": "stream",
     "name": "stdout",
     "text": [
      "Суммарная награда: -1761.3166331693121\n"
     ]
    },
    {
     "output_type": "stream",
     "name": "stderr",
     "text": [
      "100%|██████████| 1300/1300 [00:03<00:00, 370.93it/s]\n"
     ]
    },
    {
     "output_type": "stream",
     "name": "stdout",
     "text": [
      "Суммарная награда: -1785.6592056279542\n"
     ]
    },
    {
     "output_type": "stream",
     "name": "stderr",
     "text": [
      "100%|██████████| 1500/1500 [00:04<00:00, 368.37it/s]\n"
     ]
    },
    {
     "output_type": "stream",
     "name": "stdout",
     "text": [
      "Суммарная награда: -1864.0746827641387\n"
     ]
    },
    {
     "output_type": "stream",
     "name": "stderr",
     "text": [
      "100%|██████████| 1700/1700 [00:03<00:00, 430.70it/s]\n"
     ]
    },
    {
     "output_type": "stream",
     "name": "stdout",
     "text": [
      "Суммарная награда: -1904.7407263129455\n"
     ]
    },
    {
     "output_type": "stream",
     "name": "stderr",
     "text": [
      "100%|██████████| 1900/1900 [00:04<00:00, 451.20it/s]\n"
     ]
    },
    {
     "output_type": "stream",
     "name": "stdout",
     "text": [
      "Суммарная награда: -1931.3394145881903\n"
     ]
    },
    {
     "output_type": "stream",
     "name": "stderr",
     "text": [
      "100%|██████████| 100/100 [00:00<00:00, 162.59it/s]\n"
     ]
    },
    {
     "output_type": "stream",
     "name": "stdout",
     "text": [
      "Суммарная награда: -1299.8384603828135\n"
     ]
    },
    {
     "output_type": "stream",
     "name": "stderr",
     "text": [
      "100%|██████████| 300/300 [00:01<00:00, 294.98it/s]\n"
     ]
    },
    {
     "output_type": "stream",
     "name": "stdout",
     "text": [
      "Суммарная награда: -1718.6196409139175\n"
     ]
    },
    {
     "output_type": "stream",
     "name": "stderr",
     "text": [
      "100%|██████████| 500/500 [00:01<00:00, 389.09it/s]\n"
     ]
    },
    {
     "output_type": "stream",
     "name": "stdout",
     "text": [
      "Суммарная награда: -1883.531050069499\n"
     ]
    },
    {
     "output_type": "stream",
     "name": "stderr",
     "text": [
      "100%|██████████| 700/700 [00:01<00:00, 443.33it/s]\n"
     ]
    },
    {
     "output_type": "stream",
     "name": "stdout",
     "text": [
      "Суммарная награда: -2000.0514936379686\n"
     ]
    },
    {
     "output_type": "stream",
     "name": "stderr",
     "text": [
      "100%|██████████| 900/900 [00:01<00:00, 496.96it/s]\n"
     ]
    },
    {
     "output_type": "stream",
     "name": "stdout",
     "text": [
      "Суммарная награда: -2038.9979293406666\n"
     ]
    },
    {
     "output_type": "stream",
     "name": "stderr",
     "text": [
      "100%|██████████| 1100/1100 [00:02<00:00, 457.94it/s]\n"
     ]
    },
    {
     "output_type": "stream",
     "name": "stdout",
     "text": [
      "Суммарная награда: -2072.0867282094805\n"
     ]
    },
    {
     "output_type": "stream",
     "name": "stderr",
     "text": [
      "100%|██████████| 1300/1300 [00:02<00:00, 559.86it/s]\n"
     ]
    },
    {
     "output_type": "stream",
     "name": "stdout",
     "text": [
      "Суммарная награда: -2089.8343630847135\n"
     ]
    },
    {
     "output_type": "stream",
     "name": "stderr",
     "text": [
      "100%|██████████| 1500/1500 [00:02<00:00, 628.13it/s]\n"
     ]
    },
    {
     "output_type": "stream",
     "name": "stdout",
     "text": [
      "Суммарная награда: -2097.538574711849\n"
     ]
    },
    {
     "output_type": "stream",
     "name": "stderr",
     "text": [
      "100%|██████████| 1700/1700 [00:02<00:00, 608.88it/s]\n"
     ]
    },
    {
     "output_type": "stream",
     "name": "stdout",
     "text": [
      "Суммарная награда: -2109.3311271527346\n"
     ]
    },
    {
     "output_type": "stream",
     "name": "stderr",
     "text": [
      "100%|██████████| 1900/1900 [00:03<00:00, 593.01it/s]\n"
     ]
    },
    {
     "output_type": "stream",
     "name": "stdout",
     "text": [
      "Суммарная награда: -2115.9436680453323\n"
     ]
    },
    {
     "output_type": "stream",
     "name": "stderr",
     "text": [
      "100%|██████████| 100/100 [00:00<00:00, 200.40it/s]\n"
     ]
    },
    {
     "output_type": "stream",
     "name": "stdout",
     "text": [
      "Суммарная награда: -1512.5878445471594\n"
     ]
    },
    {
     "output_type": "stream",
     "name": "stderr",
     "text": [
      "100%|██████████| 300/300 [00:00<00:00, 314.80it/s]\n"
     ]
    },
    {
     "output_type": "stream",
     "name": "stdout",
     "text": [
      "Суммарная награда: -1916.268861229447\n"
     ]
    },
    {
     "output_type": "stream",
     "name": "stderr",
     "text": [
      "100%|██████████| 500/500 [00:01<00:00, 417.71it/s]\n"
     ]
    },
    {
     "output_type": "stream",
     "name": "stdout",
     "text": [
      "Суммарная награда: -2028.2229250398364\n"
     ]
    },
    {
     "output_type": "stream",
     "name": "stderr",
     "text": [
      "100%|██████████| 700/700 [00:01<00:00, 521.30it/s]\n"
     ]
    },
    {
     "output_type": "stream",
     "name": "stdout",
     "text": [
      "Суммарная награда: -2088.5118918570856\n"
     ]
    },
    {
     "output_type": "stream",
     "name": "stderr",
     "text": [
      "100%|██████████| 900/900 [00:01<00:00, 545.65it/s]\n"
     ]
    },
    {
     "output_type": "stream",
     "name": "stdout",
     "text": [
      "Суммарная награда: -2109.094631824114\n"
     ]
    },
    {
     "output_type": "stream",
     "name": "stderr",
     "text": [
      "100%|██████████| 1100/1100 [00:01<00:00, 553.60it/s]\n"
     ]
    },
    {
     "output_type": "stream",
     "name": "stdout",
     "text": [
      "Суммарная награда: -2121.0541161912115\n"
     ]
    },
    {
     "output_type": "stream",
     "name": "stderr",
     "text": [
      "100%|██████████| 1300/1300 [00:02<00:00, 576.76it/s]\n"
     ]
    },
    {
     "output_type": "stream",
     "name": "stdout",
     "text": [
      "Суммарная награда: -2124.428700055093\n"
     ]
    },
    {
     "output_type": "stream",
     "name": "stderr",
     "text": [
      "100%|██████████| 1500/1500 [00:02<00:00, 654.44it/s]\n"
     ]
    },
    {
     "output_type": "stream",
     "name": "stdout",
     "text": [
      "Суммарная награда: -2128.9899804002553\n"
     ]
    },
    {
     "output_type": "stream",
     "name": "stderr",
     "text": [
      "100%|██████████| 1700/1700 [00:02<00:00, 645.41it/s]\n"
     ]
    },
    {
     "output_type": "stream",
     "name": "stdout",
     "text": [
      "Суммарная награда: -2133.8182481982885\n"
     ]
    },
    {
     "output_type": "stream",
     "name": "stderr",
     "text": [
      "100%|██████████| 1900/1900 [00:02<00:00, 736.44it/s]\n"
     ]
    },
    {
     "output_type": "stream",
     "name": "stdout",
     "text": [
      "Суммарная награда: -2136.4516130930697\n"
     ]
    },
    {
     "output_type": "stream",
     "name": "stderr",
     "text": [
      "100%|██████████| 100/100 [00:00<00:00, 215.04it/s]\n"
     ]
    },
    {
     "output_type": "stream",
     "name": "stdout",
     "text": [
      "Суммарная награда: -1710.28842158432\n"
     ]
    },
    {
     "output_type": "stream",
     "name": "stderr",
     "text": [
      "100%|██████████| 300/300 [00:00<00:00, 416.09it/s]\n"
     ]
    },
    {
     "output_type": "stream",
     "name": "stdout",
     "text": [
      "Суммарная награда: -2000.7443843827464\n"
     ]
    },
    {
     "output_type": "stream",
     "name": "stderr",
     "text": [
      "100%|██████████| 500/500 [00:01<00:00, 492.37it/s]\n"
     ]
    },
    {
     "output_type": "stream",
     "name": "stdout",
     "text": [
      "Суммарная награда: -2089.5681567597817\n"
     ]
    },
    {
     "output_type": "stream",
     "name": "stderr",
     "text": [
      "100%|██████████| 700/700 [00:01<00:00, 582.76it/s]\n"
     ]
    },
    {
     "output_type": "stream",
     "name": "stdout",
     "text": [
      "Суммарная награда: -2120.600733621655\n"
     ]
    },
    {
     "output_type": "stream",
     "name": "stderr",
     "text": [
      "100%|██████████| 900/900 [00:01<00:00, 620.26it/s]\n"
     ]
    },
    {
     "output_type": "stream",
     "name": "stdout",
     "text": [
      "Суммарная награда: -2126.5818574638115\n"
     ]
    },
    {
     "output_type": "stream",
     "name": "stderr",
     "text": [
      "100%|██████████| 1100/1100 [00:01<00:00, 671.55it/s]\n"
     ]
    },
    {
     "output_type": "stream",
     "name": "stdout",
     "text": [
      "Суммарная награда: -2132.488301098992\n"
     ]
    },
    {
     "output_type": "stream",
     "name": "stderr",
     "text": [
      "100%|██████████| 1300/1300 [00:01<00:00, 657.56it/s]\n"
     ]
    },
    {
     "output_type": "stream",
     "name": "stdout",
     "text": [
      "Суммарная награда: -2139.2885168198372\n"
     ]
    },
    {
     "output_type": "stream",
     "name": "stderr",
     "text": [
      "100%|██████████| 1500/1500 [00:02<00:00, 724.22it/s]\n"
     ]
    },
    {
     "output_type": "stream",
     "name": "stdout",
     "text": [
      "Суммарная награда: -2141.4364343032667\n"
     ]
    },
    {
     "output_type": "stream",
     "name": "stderr",
     "text": [
      "100%|██████████| 1700/1700 [00:02<00:00, 745.29it/s]\n"
     ]
    },
    {
     "output_type": "stream",
     "name": "stdout",
     "text": [
      "Суммарная награда: -2144.934285700624\n"
     ]
    },
    {
     "output_type": "stream",
     "name": "stderr",
     "text": [
      "100%|██████████| 1900/1900 [00:02<00:00, 766.75it/s]\n"
     ]
    },
    {
     "output_type": "stream",
     "name": "stdout",
     "text": [
      "Суммарная награда: -2144.2086764299847\n"
     ]
    },
    {
     "output_type": "stream",
     "name": "stderr",
     "text": [
      "100%|██████████| 100/100 [00:00<00:00, 243.31it/s]\n"
     ]
    },
    {
     "output_type": "stream",
     "name": "stdout",
     "text": [
      "Суммарная награда: -1754.3796326951915\n"
     ]
    },
    {
     "output_type": "stream",
     "name": "stderr",
     "text": [
      "100%|██████████| 300/300 [00:00<00:00, 487.81it/s]\n"
     ]
    },
    {
     "output_type": "stream",
     "name": "stdout",
     "text": [
      "Суммарная награда: -2070.776016397407\n"
     ]
    },
    {
     "output_type": "stream",
     "name": "stderr",
     "text": [
      "100%|██████████| 500/500 [00:00<00:00, 578.69it/s]\n"
     ]
    },
    {
     "output_type": "stream",
     "name": "stdout",
     "text": [
      "Суммарная награда: -2112.951933590163\n"
     ]
    },
    {
     "output_type": "stream",
     "name": "stderr",
     "text": [
      "100%|██████████| 700/700 [00:01<00:00, 635.19it/s]\n"
     ]
    },
    {
     "output_type": "stream",
     "name": "stdout",
     "text": [
      "Суммарная награда: -2129.356497879893\n"
     ]
    },
    {
     "output_type": "stream",
     "name": "stderr",
     "text": [
      "100%|██████████| 900/900 [00:01<00:00, 674.16it/s]\n"
     ]
    },
    {
     "output_type": "stream",
     "name": "stdout",
     "text": [
      "Суммарная награда: -2138.202476710425\n"
     ]
    },
    {
     "output_type": "stream",
     "name": "stderr",
     "text": [
      "100%|██████████| 1100/1100 [00:01<00:00, 660.66it/s]\n"
     ]
    },
    {
     "output_type": "stream",
     "name": "stdout",
     "text": [
      "Суммарная награда: -2144.5389586688107\n"
     ]
    },
    {
     "output_type": "stream",
     "name": "stderr",
     "text": [
      "100%|██████████| 1300/1300 [00:01<00:00, 708.72it/s]\n"
     ]
    },
    {
     "output_type": "stream",
     "name": "stdout",
     "text": [
      "Суммарная награда: -2146.1809670039315\n"
     ]
    },
    {
     "output_type": "stream",
     "name": "stderr",
     "text": [
      "100%|██████████| 1500/1500 [00:01<00:00, 755.66it/s]\n"
     ]
    },
    {
     "output_type": "stream",
     "name": "stdout",
     "text": [
      "Суммарная награда: -2147.1392480265026\n"
     ]
    },
    {
     "output_type": "stream",
     "name": "stderr",
     "text": [
      "100%|██████████| 1700/1700 [00:02<00:00, 753.98it/s]\n"
     ]
    },
    {
     "output_type": "stream",
     "name": "stdout",
     "text": [
      "Суммарная награда: -2148.839233533121\n"
     ]
    },
    {
     "output_type": "stream",
     "name": "stderr",
     "text": [
      "100%|██████████| 1900/1900 [00:02<00:00, 746.56it/s]\n"
     ]
    },
    {
     "output_type": "stream",
     "name": "stdout",
     "text": [
      "Суммарная награда: -2149.035315252183\n"
     ]
    },
    {
     "output_type": "stream",
     "name": "stderr",
     "text": [
      "100%|██████████| 100/100 [00:00<00:00, 250.00it/s]\n"
     ]
    },
    {
     "output_type": "stream",
     "name": "stdout",
     "text": [
      "Суммарная награда: -1862.8187580871006\n"
     ]
    },
    {
     "output_type": "stream",
     "name": "stderr",
     "text": [
      "100%|██████████| 300/300 [00:00<00:00, 509.31it/s]\n"
     ]
    },
    {
     "output_type": "stream",
     "name": "stdout",
     "text": [
      "Суммарная награда: -2086.580584548959\n"
     ]
    },
    {
     "output_type": "stream",
     "name": "stderr",
     "text": [
      "100%|██████████| 500/500 [00:00<00:00, 602.39it/s]\n"
     ]
    },
    {
     "output_type": "stream",
     "name": "stdout",
     "text": [
      "Суммарная награда: -2127.347128886173\n"
     ]
    },
    {
     "output_type": "stream",
     "name": "stderr",
     "text": [
      "100%|██████████| 700/700 [00:01<00:00, 633.47it/s]\n"
     ]
    },
    {
     "output_type": "stream",
     "name": "stdout",
     "text": [
      "Суммарная награда: -2138.320162350603\n"
     ]
    },
    {
     "output_type": "stream",
     "name": "stderr",
     "text": [
      "100%|██████████| 900/900 [00:01<00:00, 674.68it/s]\n"
     ]
    },
    {
     "output_type": "stream",
     "name": "stdout",
     "text": [
      "Суммарная награда: -2144.033938120837\n"
     ]
    },
    {
     "output_type": "stream",
     "name": "stderr",
     "text": [
      "100%|██████████| 1100/1100 [00:01<00:00, 683.66it/s]\n"
     ]
    },
    {
     "output_type": "stream",
     "name": "stdout",
     "text": [
      "Суммарная награда: -2147.8069638586458\n"
     ]
    },
    {
     "output_type": "stream",
     "name": "stderr",
     "text": [
      "100%|██████████| 1300/1300 [00:01<00:00, 747.97it/s]\n"
     ]
    },
    {
     "output_type": "stream",
     "name": "stdout",
     "text": [
      "Суммарная награда: -2149.7947049547474\n"
     ]
    },
    {
     "output_type": "stream",
     "name": "stderr",
     "text": [
      "100%|██████████| 1500/1500 [00:02<00:00, 740.01it/s]\n"
     ]
    },
    {
     "output_type": "stream",
     "name": "stdout",
     "text": [
      "Суммарная награда: -2150.384206837266\n"
     ]
    },
    {
     "output_type": "stream",
     "name": "stderr",
     "text": [
      "100%|██████████| 1700/1700 [00:02<00:00, 766.80it/s]\n"
     ]
    },
    {
     "output_type": "stream",
     "name": "stdout",
     "text": [
      "Суммарная награда: -2150.967475042206\n"
     ]
    },
    {
     "output_type": "stream",
     "name": "stderr",
     "text": [
      "100%|██████████| 1900/1900 [00:02<00:00, 798.31it/s]\n"
     ]
    },
    {
     "output_type": "stream",
     "name": "stdout",
     "text": [
      "Суммарная награда: -2151.76870273867\n"
     ]
    },
    {
     "output_type": "stream",
     "name": "stderr",
     "text": [
      "100%|██████████| 100/100 [00:00<00:00, 326.80it/s]\n"
     ]
    },
    {
     "output_type": "stream",
     "name": "stdout",
     "text": [
      "Суммарная награда: -1915.0162406124334\n"
     ]
    },
    {
     "output_type": "stream",
     "name": "stderr",
     "text": [
      "100%|██████████| 300/300 [00:00<00:00, 540.54it/s]\n"
     ]
    },
    {
     "output_type": "stream",
     "name": "stdout",
     "text": [
      "Суммарная награда: -2112.492579918494\n"
     ]
    },
    {
     "output_type": "stream",
     "name": "stderr",
     "text": [
      "100%|██████████| 500/500 [00:00<00:00, 618.79it/s]\n"
     ]
    },
    {
     "output_type": "stream",
     "name": "stdout",
     "text": [
      "Суммарная награда: -2132.73330347878\n"
     ]
    },
    {
     "output_type": "stream",
     "name": "stderr",
     "text": [
      "100%|██████████| 700/700 [00:01<00:00, 678.95it/s]\n"
     ]
    },
    {
     "output_type": "stream",
     "name": "stdout",
     "text": [
      "Суммарная награда: -2142.282109614607\n"
     ]
    },
    {
     "output_type": "stream",
     "name": "stderr",
     "text": [
      "100%|██████████| 900/900 [00:01<00:00, 697.12it/s]\n"
     ]
    },
    {
     "output_type": "stream",
     "name": "stdout",
     "text": [
      "Суммарная награда: -2147.4274960573653\n"
     ]
    },
    {
     "output_type": "stream",
     "name": "stderr",
     "text": [
      "100%|██████████| 1100/1100 [00:01<00:00, 698.40it/s]\n"
     ]
    },
    {
     "output_type": "stream",
     "name": "stdout",
     "text": [
      "Суммарная награда: -2150.762327243083\n"
     ]
    },
    {
     "output_type": "stream",
     "name": "stderr",
     "text": [
      "100%|██████████| 1300/1300 [00:01<00:00, 688.55it/s]\n"
     ]
    },
    {
     "output_type": "stream",
     "name": "stdout",
     "text": [
      "Суммарная награда: -2152.7145056140994\n"
     ]
    },
    {
     "output_type": "stream",
     "name": "stderr",
     "text": [
      "100%|██████████| 1500/1500 [00:01<00:00, 776.38it/s]\n"
     ]
    },
    {
     "output_type": "stream",
     "name": "stdout",
     "text": [
      "Суммарная награда: -2152.9630536904447\n"
     ]
    },
    {
     "output_type": "stream",
     "name": "stderr",
     "text": [
      "100%|██████████| 1700/1700 [00:02<00:00, 772.03it/s]\n"
     ]
    },
    {
     "output_type": "stream",
     "name": "stdout",
     "text": [
      "Суммарная награда: -2153.4555222610825\n"
     ]
    },
    {
     "output_type": "stream",
     "name": "stderr",
     "text": [
      "100%|██████████| 1900/1900 [00:02<00:00, 817.54it/s] \n"
     ]
    },
    {
     "output_type": "stream",
     "name": "stdout",
     "text": [
      "Суммарная награда: -2154.10297424919\n"
     ]
    },
    {
     "output_type": "stream",
     "name": "stderr",
     "text": [
      "100%|██████████| 100/100 [00:00<00:00, 324.68it/s]\n"
     ]
    },
    {
     "output_type": "stream",
     "name": "stdout",
     "text": [
      "Суммарная награда: -1948.4623669250057\n"
     ]
    },
    {
     "output_type": "stream",
     "name": "stderr",
     "text": [
      "100%|██████████| 300/300 [00:00<00:00, 531.88it/s]\n"
     ]
    },
    {
     "output_type": "stream",
     "name": "stdout",
     "text": [
      "Суммарная награда: -2121.3228187870113\n"
     ]
    },
    {
     "output_type": "stream",
     "name": "stderr",
     "text": [
      "100%|██████████| 500/500 [00:00<00:00, 622.67it/s]\n"
     ]
    },
    {
     "output_type": "stream",
     "name": "stdout",
     "text": [
      "Суммарная награда: -2141.295609658261\n"
     ]
    },
    {
     "output_type": "stream",
     "name": "stderr",
     "text": [
      "100%|██████████| 700/700 [00:01<00:00, 669.86it/s]\n"
     ]
    },
    {
     "output_type": "stream",
     "name": "stdout",
     "text": [
      "Суммарная награда: -2147.0673483498826\n"
     ]
    },
    {
     "output_type": "stream",
     "name": "stderr",
     "text": [
      "100%|██████████| 900/900 [00:01<00:00, 705.33it/s]\n"
     ]
    },
    {
     "output_type": "stream",
     "name": "stdout",
     "text": [
      "Суммарная награда: -2150.1103909496737\n"
     ]
    },
    {
     "output_type": "stream",
     "name": "stderr",
     "text": [
      "100%|██████████| 1100/1100 [00:01<00:00, 739.75it/s]\n"
     ]
    },
    {
     "output_type": "stream",
     "name": "stdout",
     "text": [
      "Суммарная награда: -2152.74327246399\n"
     ]
    },
    {
     "output_type": "stream",
     "name": "stderr",
     "text": [
      "100%|██████████| 1300/1300 [00:01<00:00, 727.65it/s]\n"
     ]
    },
    {
     "output_type": "stream",
     "name": "stdout",
     "text": [
      "Суммарная награда: -2153.459637406034\n"
     ]
    },
    {
     "output_type": "stream",
     "name": "stderr",
     "text": [
      "100%|██████████| 1500/1500 [00:01<00:00, 785.59it/s]\n"
     ]
    },
    {
     "output_type": "stream",
     "name": "stdout",
     "text": [
      "Суммарная награда: -2153.7172352791376\n"
     ]
    },
    {
     "output_type": "stream",
     "name": "stderr",
     "text": [
      "100%|██████████| 1700/1700 [00:02<00:00, 816.91it/s] \n"
     ]
    },
    {
     "output_type": "stream",
     "name": "stdout",
     "text": [
      "Суммарная награда: -2154.111404163171\n"
     ]
    },
    {
     "output_type": "stream",
     "name": "stderr",
     "text": [
      "100%|██████████| 1900/1900 [00:02<00:00, 851.02it/s] \n"
     ]
    },
    {
     "output_type": "stream",
     "name": "stdout",
     "text": [
      "Суммарная награда: -2154.2927166166664\n"
     ]
    },
    {
     "output_type": "stream",
     "name": "stderr",
     "text": [
      "100%|██████████| 100/100 [00:00<00:00, 366.32it/s]\n"
     ]
    },
    {
     "output_type": "stream",
     "name": "stdout",
     "text": [
      "Суммарная награда: -1965.1527063328715\n"
     ]
    },
    {
     "output_type": "stream",
     "name": "stderr",
     "text": [
      "100%|██████████| 300/300 [00:00<00:00, 553.50it/s]\n"
     ]
    },
    {
     "output_type": "stream",
     "name": "stdout",
     "text": [
      "Суммарная награда: -2129.8112155697927\n"
     ]
    },
    {
     "output_type": "stream",
     "name": "stderr",
     "text": [
      "100%|██████████| 500/500 [00:00<00:00, 595.24it/s]\n"
     ]
    },
    {
     "output_type": "stream",
     "name": "stdout",
     "text": [
      "Суммарная награда: -2146.6390004951436\n"
     ]
    },
    {
     "output_type": "stream",
     "name": "stderr",
     "text": [
      "100%|██████████| 700/700 [00:01<00:00, 664.77it/s]\n"
     ]
    },
    {
     "output_type": "stream",
     "name": "stdout",
     "text": [
      "Суммарная награда: -2149.541287451482\n"
     ]
    },
    {
     "output_type": "stream",
     "name": "stderr",
     "text": [
      "100%|██████████| 900/900 [00:01<00:00, 684.39it/s]\n"
     ]
    },
    {
     "output_type": "stream",
     "name": "stdout",
     "text": [
      "Суммарная награда: -2152.3580490303466\n"
     ]
    },
    {
     "output_type": "stream",
     "name": "stderr",
     "text": [
      "100%|██████████| 1100/1100 [00:01<00:00, 696.19it/s]\n"
     ]
    },
    {
     "output_type": "stream",
     "name": "stdout",
     "text": [
      "Суммарная награда: -2152.3605678008416\n"
     ]
    },
    {
     "output_type": "stream",
     "name": "stderr",
     "text": [
      "100%|██████████| 1300/1300 [00:01<00:00, 757.13it/s]\n"
     ]
    },
    {
     "output_type": "stream",
     "name": "stdout",
     "text": [
      "Суммарная награда: -2153.4958297159583\n"
     ]
    },
    {
     "output_type": "stream",
     "name": "stderr",
     "text": [
      "100%|██████████| 1500/1500 [00:01<00:00, 797.39it/s] \n"
     ]
    },
    {
     "output_type": "stream",
     "name": "stdout",
     "text": [
      "Суммарная награда: -2154.826138440968\n"
     ]
    },
    {
     "output_type": "stream",
     "name": "stderr",
     "text": [
      "100%|██████████| 1700/1700 [00:02<00:00, 800.00it/s] \n"
     ]
    },
    {
     "output_type": "stream",
     "name": "stdout",
     "text": [
      "Суммарная награда: -2154.0677590491964\n"
     ]
    },
    {
     "output_type": "stream",
     "name": "stderr",
     "text": [
      "100%|██████████| 1900/1900 [00:02<00:00, 848.87it/s] \n"
     ]
    },
    {
     "output_type": "stream",
     "name": "stdout",
     "text": [
      "Суммарная награда: -2154.42853095829\n"
     ]
    },
    {
     "output_type": "stream",
     "name": "stderr",
     "text": [
      "100%|██████████| 100/100 [00:00<00:00, 387.56it/s]\n"
     ]
    },
    {
     "output_type": "stream",
     "name": "stdout",
     "text": [
      "Суммарная награда: -1955.783667608528\n"
     ]
    },
    {
     "output_type": "stream",
     "name": "stderr",
     "text": [
      "100%|██████████| 300/300 [00:00<00:00, 600.00it/s]\n"
     ]
    },
    {
     "output_type": "stream",
     "name": "stdout",
     "text": [
      "Суммарная награда: -2131.726356775865\n"
     ]
    },
    {
     "output_type": "stream",
     "name": "stderr",
     "text": [
      "100%|██████████| 500/500 [00:00<00:00, 646.83it/s]\n"
     ]
    },
    {
     "output_type": "stream",
     "name": "stdout",
     "text": [
      "Суммарная награда: -2146.122852099053\n"
     ]
    },
    {
     "output_type": "stream",
     "name": "stderr",
     "text": [
      "100%|██████████| 700/700 [00:01<00:00, 672.43it/s]\n"
     ]
    },
    {
     "output_type": "stream",
     "name": "stdout",
     "text": [
      "Суммарная награда: -2152.5966864245593\n"
     ]
    },
    {
     "output_type": "stream",
     "name": "stderr",
     "text": [
      "100%|██████████| 900/900 [00:01<00:00, 700.39it/s]\n"
     ]
    },
    {
     "output_type": "stream",
     "name": "stdout",
     "text": [
      "Суммарная награда: -2152.346195547687\n"
     ]
    },
    {
     "output_type": "stream",
     "name": "stderr",
     "text": [
      "100%|██████████| 1100/1100 [00:01<00:00, 733.48it/s]\n"
     ]
    },
    {
     "output_type": "stream",
     "name": "stdout",
     "text": [
      "Суммарная награда: -2154.188272529252\n"
     ]
    },
    {
     "output_type": "stream",
     "name": "stderr",
     "text": [
      "100%|██████████| 1300/1300 [00:01<00:00, 784.75it/s]\n"
     ]
    },
    {
     "output_type": "stream",
     "name": "stdout",
     "text": [
      "Суммарная награда: -2154.6309028386995\n"
     ]
    },
    {
     "output_type": "stream",
     "name": "stderr",
     "text": [
      "100%|██████████| 1500/1500 [00:01<00:00, 800.43it/s] \n"
     ]
    },
    {
     "output_type": "stream",
     "name": "stdout",
     "text": [
      "Суммарная награда: -2154.601869341583\n"
     ]
    },
    {
     "output_type": "stream",
     "name": "stderr",
     "text": [
      "100%|██████████| 1700/1700 [00:01<00:00, 852.99it/s] \n"
     ]
    },
    {
     "output_type": "stream",
     "name": "stdout",
     "text": [
      "Суммарная награда: -2154.405316954083\n"
     ]
    },
    {
     "output_type": "stream",
     "name": "stderr",
     "text": [
      "100%|██████████| 1900/1900 [00:02<00:00, 846.31it/s] "
     ]
    },
    {
     "output_type": "stream",
     "name": "stdout",
     "text": [
      "Суммарная награда: -2155.219110663911\n",
      "[-925.480074856451, -1305.5388121280512, -1472.87992013234, -1609.6603274710199, -1688.2110491932995, -1761.3166331693121, -1785.6592056279542, -1864.0746827641387, -1904.7407263129455, -1931.3394145881903, -1299.8384603828135, -1718.6196409139175, -1883.531050069499, -2000.0514936379686, -2038.9979293406666, -2072.0867282094805, -2089.8343630847135, -2097.538574711849, -2109.3311271527346, -2115.9436680453323, -1512.5878445471594, -1916.268861229447, -2028.2229250398364, -2088.5118918570856, -2109.094631824114, -2121.0541161912115, -2124.428700055093, -2128.9899804002553, -2133.8182481982885, -2136.4516130930697, -1710.28842158432, -2000.7443843827464, -2089.5681567597817, -2120.600733621655, -2126.5818574638115, -2132.488301098992, -2139.2885168198372, -2141.4364343032667, -2144.934285700624, -2144.2086764299847, -1754.3796326951915, -2070.776016397407, -2112.951933590163, -2129.356497879893, -2138.202476710425, -2144.5389586688107, -2146.1809670039315, -2147.1392480265026, -2148.839233533121, -2149.035315252183, -1862.8187580871006, -2086.580584548959, -2127.347128886173, -2138.320162350603, -2144.033938120837, -2147.8069638586458, -2149.7947049547474, -2150.384206837266, -2150.967475042206, -2151.76870273867, -1915.0162406124334, -2112.492579918494, -2132.73330347878, -2142.282109614607, -2147.4274960573653, -2150.762327243083, -2152.7145056140994, -2152.9630536904447, -2153.4555222610825, -2154.10297424919, -1948.4623669250057, -2121.3228187870113, -2141.295609658261, -2147.0673483498826, -2150.1103909496737, -2152.74327246399, -2153.459637406034, -2153.7172352791376, -2154.111404163171, -2154.2927166166664, -1965.1527063328715, -2129.8112155697927, -2146.6390004951436, -2149.541287451482, -2152.3580490303466, -2152.3605678008416, -2153.4958297159583, -2154.826138440968, -2154.0677590491964, -2154.42853095829, -1955.783667608528, -2131.726356775865, -2146.122852099053, -2152.5966864245593, -2152.346195547687, -2154.188272529252, -2154.6309028386995, -2154.601869341583, -2154.405316954083, -2155.219110663911]\n",
      "Максимальная награда: -925.480074856451 Значения гиперпараметров(lr, gamma, num_episodes): [0.01, 0.95, 100]\n"
     ]
    },
    {
     "output_type": "stream",
     "name": "stderr",
     "text": [
      "\n"
     ]
    }
   ],
   "metadata": {}
  }
 ],
 "nbformat": 4,
 "nbformat_minor": 2,
 "metadata": {
  "language_info": {
   "codemirror_mode": {
    "name": "ipython",
    "version": 3
   },
   "file_extension": ".py",
   "mimetype": "text/x-python",
   "name": "python",
   "nbconvert_exporter": "python",
   "pygments_lexer": "ipython3",
   "version": 3
  },
  "orig_nbformat": 4
 }
}